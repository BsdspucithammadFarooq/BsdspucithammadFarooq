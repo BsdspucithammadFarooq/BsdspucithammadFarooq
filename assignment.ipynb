{
  "metadata": {
    "kernelspec": {
      "name": "python",
      "display_name": "Python (Pyodide)",
      "language": "python"
    },
    "language_info": {
      "codemirror_mode": {
        "name": "python",
        "version": 3
      },
      "file_extension": ".py",
      "mimetype": "text/x-python",
      "name": "python",
      "nbconvert_exporter": "python",
      "pygments_lexer": "ipython3",
      "version": "3.8"
    }
  },
  "nbformat_minor": 4,
  "nbformat": 4,
  "cells": [
    {
      "cell_type": "code",
      "source": "#Task1 a\norders = [\n    {\"customer\": \"Alice\", \"total\": 250.5},\n    {\"customer\": \"Bob\", \"total\": \"invalid_data\"},\n    {\"customer\": \"Charlie\", \"total\": 450},\n    {\"customer\": \"Daisy\", \"total\": 100.0},\n    {\"customer\": \"Eve\", \"total\": -30},\n]\n\n# Filter valid orders\nvalid_orders = list(filter(lambda x: type(x[\"total\"]) in (int, float) and x[\"total\"] >= 0, orders))\n\n# Apply discount for orders above 300 and filter them\nabove_300 = list(map(lambda x: {\"customer\": x[\"customer\"], \"total\": x[\"total\"] * 0.9} if x[\"total\"] >= 300 else x, valid_orders))\nabove_300 = list(filter(lambda x: x[\"total\"] >= 300, above_300))\n\nprint(\"Valid orders:\")\nfor order in valid_orders:\n    print(f\"{order['customer']}: {order['total']}\")\n\nprint(\"\\nTotal above 300 after discount:\")\nfor order in above_300:\n    print(f\"{order['customer']}: {order['total']}\")\n",
      "metadata": {
        "trusted": true
      },
      "outputs": [
        {
          "name": "stdout",
          "text": "Valid orders:\nAlice: 250.5\nCharlie: 450\nDaisy: 100.0\n\nTotal above 300 after discount:\nCharlie: 405.0\n",
          "output_type": "stream"
        }
      ],
      "execution_count": 4
    },
    {
      "cell_type": "code",
      "source": "#task 1 b\ndef filter_valid_orders(orders):\n    def is_valid_order(order):\n        try:\n            total = float(order[\"total\"])\n            return total >= 0\n        except (ValueError, TypeError):\n            return False\n\n    return list(filter(is_valid_order, orders))\n\norders = [\n    {\"customer\": \"Alice\", \"total\": 250.5},\n    {\"customer\": \"Bob\", \"total\": \"invalid_data\"},\n    {\"customer\": \"Charlie\", \"total\": 450},\n    {\"customer\": \"Daisy\", \"total\": 100.0},\n    {\"customer\": \"Eve\", \"total\": -30},\n]\n\nvalid_orders = filter_valid_orders(orders)\n\nprint(\"Valid orders:\")\nfor order in valid_orders:\n    print(f\"{order['customer']}: {order['total']}\")",
      "metadata": {
        "trusted": true
      },
      "outputs": [
        {
          "name": "stdout",
          "text": "Valid orders:\nAlice: 250.5\nCharlie: 450\nDaisy: 100.0\n",
          "output_type": "stream"
        }
      ],
      "execution_count": 5
    },
    {
      "cell_type": "code",
      "source": "#task 1 c\nfrom functools import reduce\n\norders = [\n    {\"customer\": \"Alice\", \"total\": 250.5},\n    {\"customer\": \"Bob\", \"total\": \"invalid_data\"},\n    {\"customer\": \"Charlie\", \"total\": 450},\n    {\"customer\": \"Daisy\", \"total\": 100.0},\n    {\"customer\": \"Eve\", \"total\": -30},\n]\n\n# Filter valid orders\nvalid_orders = list(filter(lambda x: type(x[\"total\"]) in (int, float) and x[\"total\"] >= 0, orders))\n\n# Update orders with map and lambda\nupdated_orders = list(map(lambda x: {\n    \"customer\": x[\"customer\"],\n    \"total\": x[\"total\"] * 0.9 if x[\"total\"] >= 300 else x[\"total\"]\n}, valid_orders))\n\n# Calculate total sales by extracting totals from updated_orders\ntotal_sales = reduce(lambda x, y: x + y[\"total\"], updated_orders,0)\n\nprint(\"Valid orders:\")\nfor order in valid_orders:\n    print(f\"{order['customer']}: {order['total']}\")\n\nprint(\"\\nUpdated orders with discount for totals above 300:\")\nfor order in updated_orders:\n    print(f\"{order['customer']}: {order['total']}\")\n    \nprint('Total sale: ', total_sales)",
      "metadata": {
        "trusted": true
      },
      "outputs": [
        {
          "name": "stdout",
          "text": "Valid orders:\nAlice: 250.5\nCharlie: 450\nDaisy: 100.0\n\nUpdated orders with discount for totals above 300:\nAlice: 250.5\nCharlie: 405.0\nDaisy: 100.0\nTotal sale:  755.5\n",
          "output_type": "stream"
        }
      ],
      "execution_count": 6
    },
    {
      "cell_type": "code",
      "source": "#Task2 a\ndef square_iterator(n):\n    for i in range(1, n + 1):\n        yield i ** 2  # Yield the square of the current number\n\n\n# Example usage:\nn = 5\nprint(\"Squares of the first\", n, \"natural numbers:\")\nfor square in square_iterator(n):\n    print(square)",
      "metadata": {
        "trusted": true
      },
      "outputs": [
        {
          "name": "stdout",
          "text": "Squares of the first 5 natural numbers:\n1\n4\n9\n16\n25\n",
          "output_type": "stream"
        }
      ],
      "execution_count": 7
    },
    {
      "cell_type": "code",
      "source": "#task 2 b\ndef fibonacci_generator(n):\n    a, b = 0, 1     # first two elements of fibbonacci series as manually initialize\n    while a <= n:\n        yield a\n        a, b = b, a + b\n\n# Example usage\nn = 1000\nprint(f\"Fibonacci sequence up to {n}:\")\nfor fib_number in fibonacci_generator(n):\n    print(fib_number)",
      "metadata": {
        "trusted": true
      },
      "outputs": [
        {
          "name": "stdout",
          "text": "Fibonacci sequence up to 1000:\n0\n1\n1\n2\n3\n5\n8\n13\n21\n34\n55\n89\n144\n233\n377\n610\n987\n",
          "output_type": "stream"
        }
      ],
      "execution_count": 8
    },
    {
      "cell_type": "code",
      "source": "#Task 3 a\nclass DivisionError(Exception):\n    \"\"\"exception of division errors.\"\"\"\n    pass\n\ndef divide_numbers(numbers, divisor):\n    results = []\n    for number in numbers:\n        try:\n            if divisor == 0:\n                raise DivisionError(\"Division by zero is not allowed.\")\n            result = number / divisor\n            results.append(result)\n        except TypeError as e:\n            raise DivisionError(\"Non-numeric input encountered.\") from e\n    return results\n\n# Example usage\ntry:\n    numbers = [10, 20, 'a', 40]\n    divisor = 3\n    result = divide_numbers(numbers, divisor)\n    print(\"Results:\", result)\nexcept DivisionError as e:\n    print(\"An error occurred:\", e)",
      "metadata": {
        "trusted": true
      },
      "outputs": [
        {
          "name": "stdout",
          "text": "An error occurred: Non-numeric input encountered.\n",
          "output_type": "stream"
        }
      ],
      "execution_count": 9
    },
    {
      "cell_type": "code",
      "source": "#task 3 b\nimport functools\n\ndef exception_logger(func):\n    @functools.wraps(func)\n    def wrapper(*args, **kwargs):\n        try:\n            return func(*args, **kwargs)\n        except Exception as e:\n            print(f\"Exception in {func.__name__}: {type(e).__name__} - {e}\")\n            raise\n    return wrapper\n\n# Example usage\n@exception_logger\ndef divide_numbers(numbers, divisor):\n    results = []\n    for number in numbers:\n        if divisor == 0:\n            raise ValueError(\"Division by zero is not allowed.\")\n        result = number / divisor\n        results.append(result)\n    return results\n\ntry:\n    numbers = [10, 20, 30]\n    divisor = 0\n    result = divide_numbers(numbers, divisor)\n    print(\"Results:\", result)\nexcept Exception as e:\n    pass",
      "metadata": {
        "trusted": true
      },
      "outputs": [
        {
          "name": "stdout",
          "text": "Exception in divide_numbers: ValueError - Division by zero is not allowed.\n",
          "output_type": "stream"
        }
      ],
      "execution_count": 10
    },
    {
      "cell_type": "code",
      "source": "",
      "metadata": {
        "trusted": true
      },
      "outputs": [],
      "execution_count": null
    }
  ]
}