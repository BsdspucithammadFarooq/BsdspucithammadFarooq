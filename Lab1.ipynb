{
  "metadata": {
    "kernelspec": {
      "name": "python",
      "display_name": "Python (Pyodide)",
      "language": "python"
    },
    "language_info": {
      "codemirror_mode": {
        "name": "python",
        "version": 3
      },
      "file_extension": ".py",
      "mimetype": "text/x-python",
      "name": "python",
      "nbconvert_exporter": "python",
      "pygments_lexer": "ipython3",
      "version": "3.8"
    }
  },
  "nbformat_minor": 4,
  "nbformat": 4,
  "cells": [
    {
      "cell_type": "code",
      "source": "import numpy as np# Step 1\n\n# Step 1\narray_1d = np.arange(1, 21)\n\n# Step 2\narray_2d = array_1d.reshape(4, 5)\n\n# Step 3\narray_2d[:, -1] = 0\n\n# Step 4\nflattened_array = array_2d.flatten()\nprint(\"Flattened Array:\", flattened_array)\n\n",
      "metadata": {
        "trusted": true
      },
      "outputs": [
        {
          "name": "stdout",
          "text": "Flattened Array: [ 1  2  3  4  0  6  7  8  9  0 11 12 13 14  0 16 17 18 19  0]\n",
          "output_type": "stream"
        }
      ],
      "execution_count": 10
    },
    {
      "cell_type": "code",
      "source": "# Generate random 5x5 array\narray_2d_random = np.random.randint(10, 50, size=(5, 5))\nprint(\"Generated 2D Array:\\n\", array_2d_random)\n\n# Row-wise statistics\nprint(\"\\nRow-wise statistics:\")\nfor i, row in enumerate(array_2d_random):\n    print(f\"Row {i}: Mean={row.mean()}, Sum={row.sum()}, Min={row.min()}, Max={row.max()}\")\n\n# Column-wise statistics\nprint(\"\\nColumn-wise statistics:\")\nfor i in range(array_2d_random.shape[1]):\n    column = array_2d_random[:, i]\n    print(f\"Column {i}: Mean={column.mean()}, Sum={column.sum()}, Min={column.min()}, Max={column.max()}\")\n",
      "metadata": {
        "trusted": true
      },
      "outputs": [
        {
          "name": "stdout",
          "text": "Generated 2D Array:\n [[21 27 40 26 10]\n [29 47 39 32 14]\n [18 13 27 30 29]\n [28 15 14 25 42]\n [39 24 26 20 14]]\n\nRow-wise statistics:\nRow 0: Mean=24.8, Sum=124, Min=10, Max=40\nRow 1: Mean=32.2, Sum=161, Min=14, Max=47\nRow 2: Mean=23.4, Sum=117, Min=13, Max=30\nRow 3: Mean=24.8, Sum=124, Min=14, Max=42\nRow 4: Mean=24.6, Sum=123, Min=14, Max=39\n\nColumn-wise statistics:\nColumn 0: Mean=27.0, Sum=135, Min=18, Max=39\nColumn 1: Mean=25.2, Sum=126, Min=13, Max=47\nColumn 2: Mean=29.2, Sum=146, Min=14, Max=40\nColumn 3: Mean=26.6, Sum=133, Min=20, Max=32\nColumn 4: Mean=21.8, Sum=109, Min=10, Max=42\n",
          "output_type": "stream"
        }
      ],
      "execution_count": 9
    },
    {
      "cell_type": "code",
      "source": "\n# Step 1\nidentity_matrix = np.eye(4)\n\n# Step 2\nidentity_matrix[np.diag_indices(4)] += 5\n\n# Step 3\nidentity_matrix[-1, :] = 1\nprint(\"Modified Matrix:\\n\", identity_matrix)",
      "metadata": {
        "trusted": true
      },
      "outputs": [
        {
          "name": "stdout",
          "text": "Modified Matrix:\n [[6. 0. 0. 0.]\n [0. 6. 0. 0.]\n [0. 0. 6. 0.]\n [1. 1. 1. 1.]]\n",
          "output_type": "stream"
        }
      ],
      "execution_count": 11
    },
    {
      "cell_type": "code",
      "source": "# Generate the array\nrandom_array = np.random.randint(0, 21, size=15)\nprint(\"Generated Array:\", random_array)\n\n# Count occurrences of each unique value\nunique_values, counts = np.unique(random_array, return_counts=True)\nprint(\"\\nOccurrences of each unique value:\")\nfor value, count in zip(unique_values, counts):\n    print(f\"Value {value}: {count} times\")\n\n# Find indices of elements greater than 10\nindices_greater_than_10 = np.where(random_array > 10)[0]\nprint(\"\\nIndices of elements greater than 10:\", indices_greater_than_10)",
      "metadata": {
        "trusted": true
      },
      "outputs": [
        {
          "name": "stdout",
          "text": "Generated Array: [17  5  3 17 16  0 10  1 12 17  5  6 13 15  3]\n\nOccurrences of each unique value:\nValue 0: 1 times\nValue 1: 1 times\nValue 3: 2 times\nValue 5: 2 times\nValue 6: 1 times\nValue 10: 1 times\nValue 12: 1 times\nValue 13: 1 times\nValue 15: 1 times\nValue 16: 1 times\nValue 17: 3 times\n\nIndices of elements greater than 10: [ 0  3  4  8  9 12 13]\n",
          "output_type": "stream"
        }
      ],
      "execution_count": 12
    },
    {
      "cell_type": "code",
      "source": "float_array = np.random.rand(3, 4)\n\n# Step 2\nfloat_array = np.round(float_array, 2)\n\n# Step 3\nfloat_array[:, 1] = 0.5\nprint(\"Modified Array:\\n\", float_array)",
      "metadata": {
        "trusted": true
      },
      "outputs": [
        {
          "name": "stdout",
          "text": "Modified Array:\n [[0.39 0.5  0.44 0.79]\n [0.48 0.5  0.38 0.75]\n [0.63 0.5  0.17 0.71]]\n",
          "output_type": "stream"
        }
      ],
      "execution_count": 13
    },
    {
      "cell_type": "code",
      "source": "",
      "metadata": {
        "trusted": true
      },
      "outputs": [],
      "execution_count": null
    },
    {
      "cell_type": "code",
      "source": "",
      "metadata": {
        "trusted": true
      },
      "outputs": [],
      "execution_count": null
    }
  ]
}